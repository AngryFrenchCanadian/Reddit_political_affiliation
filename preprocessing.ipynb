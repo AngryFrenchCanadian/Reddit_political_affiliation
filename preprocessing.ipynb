{
 "cells": [
  {
   "cell_type": "markdown",
   "metadata": {},
   "source": [
    "## Preprocessing notebook"
   ]
  },
  {
   "cell_type": "code",
   "execution_count": 1,
   "metadata": {},
   "outputs": [],
   "source": [
    "import numpy as np\n",
    "import pandas as pd\n",
    "import time\n",
    "import sys\n",
    "\n",
    "from sklearn.model_selection import train_test_split"
   ]
  },
  {
   "cell_type": "code",
   "execution_count": 2,
   "metadata": {},
   "outputs": [],
   "source": [
    "# Scores at which a comment is considered \"non-neutral\". Pos score is higher since comments tend to be upvoted\n",
    "#NEGATIVE_SCORE_CUTOFF = -5\n",
    "\n",
    "def filterComments(df, filter_automod, filter_deleted_posts, filter_neutral_comments, NEG_SCORE_CUTOFF=-sys.maxsize, POS_SCORE_CUTOFF=15):\n",
    "\n",
    "    inputs = (filter_automod, filter_deleted_posts, filter_neutral_comments)\n",
    "    if not all(x in range(2) for x in inputs):\n",
    "        raise Exception(\"All inputs must be in range [0, 1]\")\n",
    "\n",
    "    if filter_automod:\n",
    "        \"\"\"#removing rows with AutoMod as author. ( ''AutoModerator is a system built into reddit that allows moderators \n",
    "        #to define \"rules\" (consisting of checks and actions) to be automatically applied to posts in their subreddit. \n",
    "        #It supports a wide range of functions with a flexible rule-definition syntax, and can be set up to handle many \n",
    "        #common moderation tasks automatically.'')\n",
    "\n",
    "        #Every post usually contains a Pinned comment from Automod, hence why we are removing those. \"\"\"\n",
    "\n",
    "        indexAutomod = df[(df['author'] == 'AutoModerator')].index\n",
    "        df.drop(indexAutomod, inplace=True)\n",
    "\n",
    "\n",
    "    if filter_deleted_posts:\n",
    "        #removing comments that were deleted or removed\n",
    "        indexDeleted = df[(df['body'] == '[deleted]') | (df['body'] == '[removed]')].index\n",
    "\n",
    "        df.drop(indexDeleted, inplace=True)\n",
    "        \n",
    "    if filter_neutral_comments:\n",
    "        #removing comments with insufficient engagement\n",
    "        index_low_score = df[(df['score']>NEG_SCORE_CUTOFF) & (df['score']<POS_SCORE_CUTOFF)].index\n",
    "        \n",
    "        df.drop(index_low_score, inplace=True)"
   ]
  },
  {
   "cell_type": "code",
   "execution_count": 3,
   "metadata": {},
   "outputs": [
    {
     "data": {
      "text/html": [
       "<div>\n",
       "<style scoped>\n",
       "    .dataframe tbody tr th:only-of-type {\n",
       "        vertical-align: middle;\n",
       "    }\n",
       "\n",
       "    .dataframe tbody tr th {\n",
       "        vertical-align: top;\n",
       "    }\n",
       "\n",
       "    .dataframe thead th {\n",
       "        text-align: right;\n",
       "    }\n",
       "</style>\n",
       "<table border=\"1\" class=\"dataframe\">\n",
       "  <thead>\n",
       "    <tr style=\"text-align: right;\">\n",
       "      <th></th>\n",
       "      <th>author</th>\n",
       "      <th>body</th>\n",
       "      <th>score</th>\n",
       "      <th>subreddit</th>\n",
       "      <th>created</th>\n",
       "      <th>id</th>\n",
       "      <th>post_title</th>\n",
       "      <th>post_id</th>\n",
       "    </tr>\n",
       "  </thead>\n",
       "  <tbody>\n",
       "    <tr>\n",
       "      <th>0</th>\n",
       "      <td>agutema</td>\n",
       "      <td>Georgia is Perdue for a change!</td>\n",
       "      <td>15</td>\n",
       "      <td>politics</td>\n",
       "      <td>1604861243</td>\n",
       "      <td>gbn0bmr</td>\n",
       "      <td>Georgia’s twin January runoffs are set to dete...</td>\n",
       "      <td>jqfbym</td>\n",
       "    </tr>\n",
       "    <tr>\n",
       "      <th>1</th>\n",
       "      <td>19snow16</td>\n",
       "      <td>I have dementia. Doctor Ronny will swear by that.</td>\n",
       "      <td>10</td>\n",
       "      <td>politics</td>\n",
       "      <td>1598994889</td>\n",
       "      <td>g3n5xbz</td>\n",
       "      <td>Manhattan DA Again Hints That Trump Investigat...</td>\n",
       "      <td>ikm9od</td>\n",
       "    </tr>\n",
       "    <tr>\n",
       "      <th>2</th>\n",
       "      <td>pgabrielfreak</td>\n",
       "      <td>No shit. Trump busted in the 80's for laubderi...</td>\n",
       "      <td>7</td>\n",
       "      <td>politics</td>\n",
       "      <td>1552576791</td>\n",
       "      <td>eiijxhv</td>\n",
       "      <td>The Manafort case is a reminder that we invest...</td>\n",
       "      <td>b0wfug</td>\n",
       "    </tr>\n",
       "    <tr>\n",
       "      <th>3</th>\n",
       "      <td>NaN</td>\n",
       "      <td>Reddit should be renamed CHINA. Since they own...</td>\n",
       "      <td>5</td>\n",
       "      <td>Conservative</td>\n",
       "      <td>1585926937</td>\n",
       "      <td>fmbibrz</td>\n",
       "      <td>Whistleblowing coronavirus doctor at Wuhan hos...</td>\n",
       "      <td>ftvfit</td>\n",
       "    </tr>\n",
       "    <tr>\n",
       "      <th>4</th>\n",
       "      <td>Assuranceagent</td>\n",
       "      <td>Cardi B taking on Candace Owens in a battle of...</td>\n",
       "      <td>335</td>\n",
       "      <td>Conservative</td>\n",
       "      <td>1599508286</td>\n",
       "      <td>g4dbe4t</td>\n",
       "      <td>Candace Owens slams Cardi B for hypocrisy as w...</td>\n",
       "      <td>ioeic2</td>\n",
       "    </tr>\n",
       "  </tbody>\n",
       "</table>\n",
       "</div>"
      ],
      "text/plain": [
       "           author                                               body  score  \\\n",
       "0         agutema                    Georgia is Perdue for a change!     15   \n",
       "1        19snow16  I have dementia. Doctor Ronny will swear by that.     10   \n",
       "2   pgabrielfreak  No shit. Trump busted in the 80's for laubderi...      7   \n",
       "3             NaN  Reddit should be renamed CHINA. Since they own...      5   \n",
       "4  Assuranceagent  Cardi B taking on Candace Owens in a battle of...    335   \n",
       "\n",
       "      subreddit     created       id  \\\n",
       "0      politics  1604861243  gbn0bmr   \n",
       "1      politics  1598994889  g3n5xbz   \n",
       "2      politics  1552576791  eiijxhv   \n",
       "3  Conservative  1585926937  fmbibrz   \n",
       "4  Conservative  1599508286  g4dbe4t   \n",
       "\n",
       "                                          post_title post_id  \n",
       "0  Georgia’s twin January runoffs are set to dete...  jqfbym  \n",
       "1  Manhattan DA Again Hints That Trump Investigat...  ikm9od  \n",
       "2  The Manafort case is a reminder that we invest...  b0wfug  \n",
       "3  Whistleblowing coronavirus doctor at Wuhan hos...  ftvfit  \n",
       "4  Candace Owens slams Cardi B for hypocrisy as w...  ioeic2  "
      ]
     },
     "execution_count": 3,
     "metadata": {},
     "output_type": "execute_result"
    }
   ],
   "source": [
    "df_reps = pd.read_csv('republican_comments_raw.csv')\n",
    "df_dems1 = pd.read_csv('democrat_comments_raw.csv')\n",
    "df_dems2 = pd.read_csv('democrat_comments_raw2.csv')\n",
    "\n",
    "\n",
    "# filtering \n",
    "# removing comments from automod, removed comments, comments with a neutral score \n",
    "# filterComments(df, filter_automod, filter_deleted_posts, filter_neutral_comments):\n",
    "# cutoff scores were manually tuned to have a similar proportion of rep/dem comments\n",
    "filterComments(df_dems1, 1, 1, 1, POS_SCORE_CUTOFF=7)\n",
    "filterComments(df_dems2, 1, 1, 1, POS_SCORE_CUTOFF=7)\n",
    "filterComments(df_reps, 1, 1, 1, POS_SCORE_CUTOFF=5)\n",
    "\n",
    "\n",
    "# merging republican and democrat comments\n",
    "frames = [df_reps, df_dems1, df_dems2]\n",
    "df = pd.concat(frames)\n",
    "\n",
    "#shuffling df\n",
    "df = df.sample(frac=1).reset_index(drop=True)\n",
    "\n",
    "df.head(5)"
   ]
  },
  {
   "cell_type": "code",
   "execution_count": 4,
   "metadata": {},
   "outputs": [
    {
     "data": {
      "text/plain": [
       "(144724, 8)"
      ]
     },
     "execution_count": 4,
     "metadata": {},
     "output_type": "execute_result"
    }
   ],
   "source": [
    "df[df['subreddit'] == 'Conservative'].shape\n",
    "df[df['subreddit'] == 'politics'].shape"
   ]
  },
  {
   "cell_type": "code",
   "execution_count": 5,
   "metadata": {},
   "outputs": [
    {
     "name": "stdout",
     "output_type": "stream",
     "text": [
      "(302896, 2)\n"
     ]
    },
    {
     "data": {
      "text/html": [
       "<div>\n",
       "<style scoped>\n",
       "    .dataframe tbody tr th:only-of-type {\n",
       "        vertical-align: middle;\n",
       "    }\n",
       "\n",
       "    .dataframe tbody tr th {\n",
       "        vertical-align: top;\n",
       "    }\n",
       "\n",
       "    .dataframe thead th {\n",
       "        text-align: right;\n",
       "    }\n",
       "</style>\n",
       "<table border=\"1\" class=\"dataframe\">\n",
       "  <thead>\n",
       "    <tr style=\"text-align: right;\">\n",
       "      <th></th>\n",
       "      <th>body</th>\n",
       "      <th>subreddit</th>\n",
       "    </tr>\n",
       "  </thead>\n",
       "  <tbody>\n",
       "    <tr>\n",
       "      <th>0</th>\n",
       "      <td>georgia is perdue for a change!</td>\n",
       "      <td>1</td>\n",
       "    </tr>\n",
       "    <tr>\n",
       "      <th>1</th>\n",
       "      <td>i have dementia. doctor ronny will swear by that.</td>\n",
       "      <td>1</td>\n",
       "    </tr>\n",
       "    <tr>\n",
       "      <th>2</th>\n",
       "      <td>no shit. trump busted in the 80's for laubderi...</td>\n",
       "      <td>1</td>\n",
       "    </tr>\n",
       "    <tr>\n",
       "      <th>3</th>\n",
       "      <td>reddit should be renamed china. since they own...</td>\n",
       "      <td>0</td>\n",
       "    </tr>\n",
       "    <tr>\n",
       "      <th>4</th>\n",
       "      <td>cardi b taking on candace owens in a battle of...</td>\n",
       "      <td>0</td>\n",
       "    </tr>\n",
       "  </tbody>\n",
       "</table>\n",
       "</div>"
      ],
      "text/plain": [
       "                                                body  subreddit\n",
       "0                    georgia is perdue for a change!          1\n",
       "1  i have dementia. doctor ronny will swear by that.          1\n",
       "2  no shit. trump busted in the 80's for laubderi...          1\n",
       "3  reddit should be renamed china. since they own...          0\n",
       "4  cardi b taking on candace owens in a battle of...          0"
      ]
     },
     "execution_count": 5,
     "metadata": {},
     "output_type": "execute_result"
    }
   ],
   "source": [
    "# text length cutoff\n",
    "MAX_WORD_COUNT = 256 \n",
    "\n",
    "#keeps first MAX_WORD_COUNT words in text\n",
    "def trim_text(text):\n",
    "    text = text.split(maxsplit=MAX_WORD_COUNT)\n",
    "    text = ' '.join(text[:MAX_WORD_COUNT])\n",
    "    return text\n",
    "\n",
    "\n",
    "df.drop(columns=['author', 'score', 'created', 'id', 'post_title', 'post_id'], inplace=True)\n",
    "\n",
    "\n",
    "# asserting text type is str\n",
    "df['body'] = df['body'].astype(str)\n",
    "\n",
    "# trimming text\n",
    "df['body'] = df['body'].apply(trim_text)\n",
    "\n",
    "# since we are planning on using bert-base-uncased pretrained model, text should be lowercase\n",
    "df['body'] = df['body'].str.lower()\n",
    "\n",
    "\n",
    "\n",
    "print(df.shape)\n",
    "\n",
    "# converting subreddit vals to ints --> r/republican is represented by 0, r/democrats by 1\n",
    "\n",
    "index_democrat = df[df['subreddit'] == 'politics'].index\n",
    "df['subreddit'] =0 \n",
    "df.loc[index_democrat, 'subreddit'] =1\n",
    "\n",
    "df.head(5)"
   ]
  },
  {
   "cell_type": "code",
   "execution_count": 6,
   "metadata": {},
   "outputs": [
    {
     "name": "stdout",
     "output_type": "stream",
     "text": [
      "dems: (144724, 2) reps: (158172, 2)\n"
     ]
    }
   ],
   "source": [
    "dems =df[df['subreddit'] ==1]\n",
    "reps =df[df['subreddit'] ==0]\n",
    "\n",
    "print(f'dems: {dems.shape} reps: {reps.shape}')"
   ]
  },
  {
   "cell_type": "code",
   "execution_count": 7,
   "metadata": {},
   "outputs": [],
   "source": [
    "# 70/15/15 train/valid/test split\n",
    "\n",
    "train, temp = train_test_split(df, train_size=0.7)\n",
    "valid, test = train_test_split(temp, train_size=0.5)"
   ]
  },
  {
   "cell_type": "code",
   "execution_count": 8,
   "metadata": {},
   "outputs": [],
   "source": [
    "#saving dfs to csv\n",
    "\n",
    "train.to_csv('train.csv', index=False)\n",
    "valid.to_csv('valid.csv', index=False)\n",
    "test.to_csv('test.csv', index=False)"
   ]
  },
  {
   "cell_type": "code",
   "execution_count": null,
   "metadata": {},
   "outputs": [],
   "source": []
  }
 ],
 "metadata": {
  "kernelspec": {
   "display_name": "Python 3",
   "language": "python",
   "name": "python3"
  },
  "language_info": {
   "codemirror_mode": {
    "name": "ipython",
    "version": 3
   },
   "file_extension": ".py",
   "mimetype": "text/x-python",
   "name": "python",
   "nbconvert_exporter": "python",
   "pygments_lexer": "ipython3",
   "version": "3.9.2"
  }
 },
 "nbformat": 4,
 "nbformat_minor": 4
}
