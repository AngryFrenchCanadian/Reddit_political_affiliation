{
 "cells": [
  {
   "cell_type": "markdown",
   "metadata": {},
   "source": [
    "## The aim of this notebook is to remove undesirable comments from the dataset, notably comments from Automoderator, comments with a negative (<1)score and deleted comments."
   ]
  },
  {
   "cell_type": "code",
   "execution_count": 2,
   "metadata": {},
   "outputs": [],
   "source": [
    "import numpy as np\n",
    "import pandas as pd"
   ]
  },
  {
   "cell_type": "code",
   "execution_count": 61,
   "metadata": {},
   "outputs": [],
   "source": [
    "FILE_PATH = './Data/'\n",
    "SUBREDDIT = 'r_republican'\n",
    "FILE_NAME = SUBREDDIT + '_raw_comments.csv'"
   ]
  },
  {
   "cell_type": "code",
   "execution_count": 62,
   "metadata": {},
   "outputs": [],
   "source": [
    "df = pd.read_csv(FILE_PATH + FILE_NAME)"
   ]
  },
  {
   "cell_type": "code",
   "execution_count": 63,
   "metadata": {},
   "outputs": [
    {
     "data": {
      "text/html": [
       "<div>\n",
       "<style scoped>\n",
       "    .dataframe tbody tr th:only-of-type {\n",
       "        vertical-align: middle;\n",
       "    }\n",
       "\n",
       "    .dataframe tbody tr th {\n",
       "        vertical-align: top;\n",
       "    }\n",
       "\n",
       "    .dataframe thead th {\n",
       "        text-align: right;\n",
       "    }\n",
       "</style>\n",
       "<table border=\"1\" class=\"dataframe\">\n",
       "  <thead>\n",
       "    <tr style=\"text-align: right;\">\n",
       "      <th></th>\n",
       "      <th>Author</th>\n",
       "      <th>Body</th>\n",
       "      <th>Score</th>\n",
       "      <th>Subreddit</th>\n",
       "      <th>Created</th>\n",
       "      <th>Id</th>\n",
       "      <th>Post</th>\n",
       "      <th>Post_id</th>\n",
       "    </tr>\n",
       "  </thead>\n",
       "  <tbody>\n",
       "    <tr>\n",
       "      <th>0</th>\n",
       "      <td>AutoModerator</td>\n",
       "      <td>/r/Republican is a partisan subreddit.  This i...</td>\n",
       "      <td>1</td>\n",
       "      <td>Republican</td>\n",
       "      <td>1600214064</td>\n",
       "      <td>g5f2o3d</td>\n",
       "      <td>Sorry, solar panels won’t stop California’s fires</td>\n",
       "      <td>itkkbv</td>\n",
       "    </tr>\n",
       "    <tr>\n",
       "      <th>1</th>\n",
       "      <td>LibertyLibertyBooya</td>\n",
       "      <td>They can if they’re used to scoop up 100 years...</td>\n",
       "      <td>1</td>\n",
       "      <td>Republican</td>\n",
       "      <td>1600216449</td>\n",
       "      <td>g5f6yp0</td>\n",
       "      <td>Sorry, solar panels won’t stop California’s fires</td>\n",
       "      <td>itkkbv</td>\n",
       "    </tr>\n",
       "    <tr>\n",
       "      <th>2</th>\n",
       "      <td>usernamesarehard1979</td>\n",
       "      <td>But on the flip side, the fires are stopping m...</td>\n",
       "      <td>1</td>\n",
       "      <td>Republican</td>\n",
       "      <td>1600217849</td>\n",
       "      <td>g5f9i24</td>\n",
       "      <td>Sorry, solar panels won’t stop California’s fires</td>\n",
       "      <td>itkkbv</td>\n",
       "    </tr>\n",
       "    <tr>\n",
       "      <th>3</th>\n",
       "      <td>dingleberry1</td>\n",
       "      <td>Click baity title. Their argument is that clim...</td>\n",
       "      <td>1</td>\n",
       "      <td>Republican</td>\n",
       "      <td>1600217934</td>\n",
       "      <td>g5f9nlx</td>\n",
       "      <td>Sorry, solar panels won’t stop California’s fires</td>\n",
       "      <td>itkkbv</td>\n",
       "    </tr>\n",
       "    <tr>\n",
       "      <th>4</th>\n",
       "      <td>PatnarDannesman</td>\n",
       "      <td>Great article</td>\n",
       "      <td>1</td>\n",
       "      <td>Republican</td>\n",
       "      <td>1600223789</td>\n",
       "      <td>g5fkepc</td>\n",
       "      <td>Sorry, solar panels won’t stop California’s fires</td>\n",
       "      <td>itkkbv</td>\n",
       "    </tr>\n",
       "  </tbody>\n",
       "</table>\n",
       "</div>"
      ],
      "text/plain": [
       "                 Author                                               Body  \\\n",
       "0         AutoModerator  /r/Republican is a partisan subreddit.  This i...   \n",
       "1   LibertyLibertyBooya  They can if they’re used to scoop up 100 years...   \n",
       "2  usernamesarehard1979  But on the flip side, the fires are stopping m...   \n",
       "3          dingleberry1  Click baity title. Their argument is that clim...   \n",
       "4       PatnarDannesman                                      Great article   \n",
       "\n",
       "   Score   Subreddit     Created       Id  \\\n",
       "0      1  Republican  1600214064  g5f2o3d   \n",
       "1      1  Republican  1600216449  g5f6yp0   \n",
       "2      1  Republican  1600217849  g5f9i24   \n",
       "3      1  Republican  1600217934  g5f9nlx   \n",
       "4      1  Republican  1600223789  g5fkepc   \n",
       "\n",
       "                                                Post Post_id  \n",
       "0  Sorry, solar panels won’t stop California’s fires  itkkbv  \n",
       "1  Sorry, solar panels won’t stop California’s fires  itkkbv  \n",
       "2  Sorry, solar panels won’t stop California’s fires  itkkbv  \n",
       "3  Sorry, solar panels won’t stop California’s fires  itkkbv  \n",
       "4  Sorry, solar panels won’t stop California’s fires  itkkbv  "
      ]
     },
     "execution_count": 63,
     "metadata": {},
     "output_type": "execute_result"
    }
   ],
   "source": [
    "df.head()"
   ]
  },
  {
   "cell_type": "code",
   "execution_count": 64,
   "metadata": {},
   "outputs": [
    {
     "data": {
      "text/plain": [
       "(157376, 8)"
      ]
     },
     "execution_count": 64,
     "metadata": {},
     "output_type": "execute_result"
    }
   ],
   "source": [
    "df.shape"
   ]
  },
  {
   "cell_type": "code",
   "execution_count": 65,
   "metadata": {},
   "outputs": [
    {
     "name": "stdout",
     "output_type": "stream",
     "text": [
      "Automod indexes: Int64Index([     0,     46,     65,     70,     83,     90,    104,    109,\n",
      "               115,    121,\n",
      "            ...\n",
      "            140140, 140215, 140255, 140315, 140342, 140406, 140479, 140504,\n",
      "            140512, 142514],\n",
      "           dtype='int64', length=6743)\n"
     ]
    }
   ],
   "source": [
    "#removing rows with AutoMod as author. ( ''AutoModerator is a system built into reddit that allows moderators \n",
    "#to define \"rules\" (consisting of checks and actions) to be automatically applied to posts in their subreddit. \n",
    "#It supports a wide range of functions with a flexible rule-definition syntax, and can be set up to handle many \n",
    "#common moderation tasks automatically.'')\n",
    "\n",
    "#Every post usually constains a Pinned comment from Automod, hence why we are removing those.\n",
    "\n",
    "indexAutomod = df[(df['Author'] == 'AutoModerator')].index\n",
    "print(f'Automod indexes: {indexAutomod}')\n",
    "df.drop(indexAutomod, inplace=True)"
   ]
  },
  {
   "cell_type": "code",
   "execution_count": 66,
   "metadata": {},
   "outputs": [
    {
     "name": "stdout",
     "output_type": "stream",
     "text": [
      "Deleted/removed comments indexes: Int64Index([    52,    258,    387,    583,    595,    598,    604,    605,\n",
      "               612,    645,\n",
      "            ...\n",
      "            157122, 157158, 157192, 157195, 157202, 157208, 157267, 157281,\n",
      "            157296, 157333],\n",
      "           dtype='int64', length=12311)\n"
     ]
    }
   ],
   "source": [
    "#removing comments that were deleted or removed by mods\n",
    "\n",
    "indexDeleted = df[(df['Body'] == '[deleted]') | (df['Body'] == '[removed]')].index\n",
    "print(f'Deleted/removed comments indexes: {indexDeleted}')\n",
    "\n",
    "df.drop(indexDeleted, inplace=True)"
   ]
  },
  {
   "cell_type": "code",
   "execution_count": 67,
   "metadata": {},
   "outputs": [
    {
     "name": "stdout",
     "output_type": "stream",
     "text": [
      "Int64Index([    53,     55,     60,     61,     81,     82,     97,    107,\n",
      "               126,    135,\n",
      "            ...\n",
      "            157253, 157257, 157259, 157282, 157290, 157297, 157299, 157344,\n",
      "            157369, 157372],\n",
      "           dtype='int64', length=24224)\n"
     ]
    }
   ],
   "source": [
    "#remvoving comments with a score below 1\n",
    "\n",
    "index_low_score = df[df['Score'] < 1].index\n",
    "print(index_low_score)\n",
    "\n",
    "df.drop(index_low_score, inplace=True)"
   ]
  },
  {
   "cell_type": "code",
   "execution_count": 68,
   "metadata": {},
   "outputs": [
    {
     "data": {
      "text/plain": [
       "(114098, 8)"
      ]
     },
     "execution_count": 68,
     "metadata": {},
     "output_type": "execute_result"
    }
   ],
   "source": [
    "df.shape"
   ]
  },
  {
   "cell_type": "code",
   "execution_count": 69,
   "metadata": {},
   "outputs": [],
   "source": [
    "CLEAN_FILE_NAME = SUBREDDIT + '_cleaned_comments.csv'\n",
    "df.to_csv(FILE_PATH + CLEAN_FILE_NAME, index=False)"
   ]
  },
  {
   "cell_type": "code",
   "execution_count": null,
   "metadata": {},
   "outputs": [],
   "source": []
  }
 ],
 "metadata": {
  "kernelspec": {
   "display_name": "Python 3",
   "language": "python",
   "name": "python3"
  },
  "language_info": {
   "codemirror_mode": {
    "name": "ipython",
    "version": 3
   },
   "file_extension": ".py",
   "mimetype": "text/x-python",
   "name": "python",
   "nbconvert_exporter": "python",
   "pygments_lexer": "ipython3",
   "version": "3.7.3"
  }
 },
 "nbformat": 4,
 "nbformat_minor": 4
}
