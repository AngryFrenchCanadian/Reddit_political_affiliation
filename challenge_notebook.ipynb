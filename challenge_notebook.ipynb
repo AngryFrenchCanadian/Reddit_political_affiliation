{
 "cells": [
  {
   "cell_type": "code",
   "execution_count": 1,
   "metadata": {
    "scrolled": true
   },
   "outputs": [],
   "source": [
    "# imports\n",
    "\n",
    "import numpy as np\n",
    "import pandas as pd\n",
    "import matplotlib.pyplot as plt\n",
    "\n",
    "from sklearn.linear_model import LogisticRegression\n",
    "from sklearn.feature_extraction.text import TfidfVectorizer\n",
    "from sklearn.metrics import confusion_matrix, f1_score\n",
    "from sklearn.model_selection import train_test_split\n",
    "\n",
    "%matplotlib inline"
   ]
  },
  {
   "cell_type": "code",
   "execution_count": 2,
   "metadata": {},
   "outputs": [
    {
     "data": {
      "text/plain": [
       "(79707, 6)"
      ]
     },
     "execution_count": 2,
     "metadata": {},
     "output_type": "execute_result"
    }
   ],
   "source": [
    "# reading data\n",
    "\n",
    "df = pd.read_csv('train.csv')\n",
    "submission = pd.read_csv('submission.csv')\n",
    "submission.shape"
   ]
  },
  {
   "cell_type": "code",
   "execution_count": 3,
   "metadata": {},
   "outputs": [
    {
     "data": {
      "text/html": [
       "<div>\n",
       "<style scoped>\n",
       "    .dataframe tbody tr th:only-of-type {\n",
       "        vertical-align: middle;\n",
       "    }\n",
       "\n",
       "    .dataframe tbody tr th {\n",
       "        vertical-align: top;\n",
       "    }\n",
       "\n",
       "    .dataframe thead th {\n",
       "        text-align: right;\n",
       "    }\n",
       "</style>\n",
       "<table border=\"1\" class=\"dataframe\">\n",
       "  <thead>\n",
       "    <tr style=\"text-align: right;\">\n",
       "      <th></th>\n",
       "      <th>Unnamed: 0</th>\n",
       "      <th>Author</th>\n",
       "      <th>Body</th>\n",
       "      <th>Created</th>\n",
       "      <th>Post</th>\n",
       "      <th>Score</th>\n",
       "      <th>Subreddit</th>\n",
       "    </tr>\n",
       "  </thead>\n",
       "  <tbody>\n",
       "    <tr>\n",
       "      <th>0</th>\n",
       "      <td>0</td>\n",
       "      <td>BobSponge22</td>\n",
       "      <td>Even when there's 0 active cases, they'll stil...</td>\n",
       "      <td>1589775859</td>\n",
       "      <td>Democrats Have Abandoned Civil Liberties</td>\n",
       "      <td>1</td>\n",
       "      <td>Republican</td>\n",
       "    </tr>\n",
       "    <tr>\n",
       "      <th>1</th>\n",
       "      <td>1</td>\n",
       "      <td>MsWumpkins</td>\n",
       "      <td>Yup. It's awful.</td>\n",
       "      <td>1585607566</td>\n",
       "      <td>Donald Trump’s Briefing Snubbed, Critics No Lo...</td>\n",
       "      <td>2</td>\n",
       "      <td>democrats</td>\n",
       "    </tr>\n",
       "    <tr>\n",
       "      <th>2</th>\n",
       "      <td>2</td>\n",
       "      <td>mickey_patches</td>\n",
       "      <td>I agree with what you say, more or less, but I...</td>\n",
       "      <td>1485285435</td>\n",
       "      <td>Top Republican Says Balancing The Budget As Im...</td>\n",
       "      <td>3</td>\n",
       "      <td>Republican</td>\n",
       "    </tr>\n",
       "    <tr>\n",
       "      <th>3</th>\n",
       "      <td>3</td>\n",
       "      <td>sdrawkcabemanresu11</td>\n",
       "      <td>No. [Source](https://www.govtrack.us/congress/...</td>\n",
       "      <td>1493234043</td>\n",
       "      <td>House GOP health bill changes exempt members o...</td>\n",
       "      <td>39</td>\n",
       "      <td>Republican</td>\n",
       "    </tr>\n",
       "    <tr>\n",
       "      <th>4</th>\n",
       "      <td>4</td>\n",
       "      <td>Mhunterjr</td>\n",
       "      <td>Don't tell me which Rich, Racist, republic oli...</td>\n",
       "      <td>1581998270</td>\n",
       "      <td>Bloomberg is avoiding all scrutiny. It's time ...</td>\n",
       "      <td>4</td>\n",
       "      <td>democrats</td>\n",
       "    </tr>\n",
       "  </tbody>\n",
       "</table>\n",
       "</div>"
      ],
      "text/plain": [
       "   Unnamed: 0               Author  \\\n",
       "0           0          BobSponge22   \n",
       "1           1           MsWumpkins   \n",
       "2           2       mickey_patches   \n",
       "3           3  sdrawkcabemanresu11   \n",
       "4           4            Mhunterjr   \n",
       "\n",
       "                                                Body     Created  \\\n",
       "0  Even when there's 0 active cases, they'll stil...  1589775859   \n",
       "1                                   Yup. It's awful.  1585607566   \n",
       "2  I agree with what you say, more or less, but I...  1485285435   \n",
       "3  No. [Source](https://www.govtrack.us/congress/...  1493234043   \n",
       "4  Don't tell me which Rich, Racist, republic oli...  1581998270   \n",
       "\n",
       "                                                Post  Score   Subreddit  \n",
       "0           Democrats Have Abandoned Civil Liberties      1  Republican  \n",
       "1  Donald Trump’s Briefing Snubbed, Critics No Lo...      2   democrats  \n",
       "2  Top Republican Says Balancing The Budget As Im...      3  Republican  \n",
       "3  House GOP health bill changes exempt members o...     39  Republican  \n",
       "4  Bloomberg is avoiding all scrutiny. It's time ...      4   democrats  "
      ]
     },
     "execution_count": 3,
     "metadata": {},
     "output_type": "execute_result"
    }
   ],
   "source": [
    "# cleaning up df\n",
    "df =df.dropna()\n",
    "df['Body'].astype(str)\n",
    "\n",
    "df.head(5)"
   ]
  },
  {
   "cell_type": "code",
   "execution_count": 19,
   "metadata": {},
   "outputs": [],
   "source": [
    "# converting subreddit vals to ints MAKE SURE DEMOCRATS IS SET TO 1 FOR SUBMISSION\n",
    "\n",
    "index_democrat = df[df['Subreddit'] == 'democrats'].index\n",
    "df['Subreddit'] =0 \n",
    "df.loc[index_democrat, 'Subreddit'] =1"
   ]
  },
  {
   "cell_type": "code",
   "execution_count": 20,
   "metadata": {},
   "outputs": [],
   "source": [
    "# splitting data\n",
    "x = df['Body']\n",
    "y = df['Subreddit']\n",
    "xtr, xts, ytr, yts = train_test_split(x, y, test_size=0.30, stratify=y)"
   ]
  },
  {
   "cell_type": "code",
   "execution_count": 21,
   "metadata": {},
   "outputs": [
    {
     "data": {
      "text/plain": [
       "(54312, 10000)"
      ]
     },
     "execution_count": 21,
     "metadata": {},
     "output_type": "execute_result"
    }
   ],
   "source": [
    "word_vectorizer = TfidfVectorizer(max_features=10000, lowercase=True, stop_words= 'english', ngram_range=(1,1))\n",
    "\n",
    "# creating tf-idf matrices\n",
    "xtr_vect = word_vectorizer.fit_transform(xtr)\n",
    "xts_vect = word_vectorizer.fit_transform(xts)\n",
    "xts_vect.shape"
   ]
  },
  {
   "cell_type": "code",
   "execution_count": 22,
   "metadata": {},
   "outputs": [
    {
     "name": "stdout",
     "output_type": "stream",
     "text": [
      "\n",
      "Confusion matrix\n",
      " [[15777 12135]\n",
      " [13453 12947]]\n",
      "f1 score: 0.5029719125131114\n"
     ]
    }
   ],
   "source": [
    "lr = LogisticRegression(max_iter=10000, class_weight=({0:1}))\n",
    "lr.fit(xtr_vect, ytr)\n",
    "preds = lr.predict(xts_vect)\n",
    "\n",
    "print('\\nConfusion matrix\\n',confusion_matrix(yts, preds))\n",
    "print(f'f1 score: {f1_score(yts, preds)}')"
   ]
  },
  {
   "cell_type": "code",
   "execution_count": 23,
   "metadata": {},
   "outputs": [],
   "source": [
    "sub_input = submission['Body'].astype(str)\n",
    "sub_vec = word_vectorizer.fit_transform(sub_input)\n",
    "submission['Subreddit'] = lr.predict(sub_vec)"
   ]
  },
  {
   "cell_type": "code",
   "execution_count": 24,
   "metadata": {},
   "outputs": [
    {
     "name": "stdout",
     "output_type": "stream",
     "text": [
      "(79707, 7)\n"
     ]
    },
    {
     "data": {
      "text/html": [
       "<div>\n",
       "<style scoped>\n",
       "    .dataframe tbody tr th:only-of-type {\n",
       "        vertical-align: middle;\n",
       "    }\n",
       "\n",
       "    .dataframe tbody tr th {\n",
       "        vertical-align: top;\n",
       "    }\n",
       "\n",
       "    .dataframe thead th {\n",
       "        text-align: right;\n",
       "    }\n",
       "</style>\n",
       "<table border=\"1\" class=\"dataframe\">\n",
       "  <thead>\n",
       "    <tr style=\"text-align: right;\">\n",
       "      <th></th>\n",
       "      <th>Unnamed: 0</th>\n",
       "      <th>Author</th>\n",
       "      <th>Body</th>\n",
       "      <th>Created</th>\n",
       "      <th>Post</th>\n",
       "      <th>Score</th>\n",
       "      <th>Subreddit</th>\n",
       "    </tr>\n",
       "  </thead>\n",
       "  <tbody>\n",
       "    <tr>\n",
       "      <th>0</th>\n",
       "      <td>0</td>\n",
       "      <td>Picklesadog</td>\n",
       "      <td>And my argument is that the majority of democr...</td>\n",
       "      <td>1501799501</td>\n",
       "      <td>Poll: McCain more popular with Democrats than ...</td>\n",
       "      <td>1</td>\n",
       "      <td>1</td>\n",
       "    </tr>\n",
       "    <tr>\n",
       "      <th>1</th>\n",
       "      <td>1</td>\n",
       "      <td>NaN</td>\n",
       "      <td>I’m not necessarily disagreeing with you but d...</td>\n",
       "      <td>1590457879</td>\n",
       "      <td>Paying Illegal Immigrants Puts America Last</td>\n",
       "      <td>1</td>\n",
       "      <td>0</td>\n",
       "    </tr>\n",
       "    <tr>\n",
       "      <th>2</th>\n",
       "      <td>2</td>\n",
       "      <td>Stunkstank</td>\n",
       "      <td>That’s not how the constitution works. Are you...</td>\n",
       "      <td>1523294396</td>\n",
       "      <td>Is Gun Ownership a Right?</td>\n",
       "      <td>1</td>\n",
       "      <td>0</td>\n",
       "    </tr>\n",
       "    <tr>\n",
       "      <th>3</th>\n",
       "      <td>3</td>\n",
       "      <td>viverator</td>\n",
       "      <td>Johnny five need input.</td>\n",
       "      <td>1587698971</td>\n",
       "      <td>“Senate Republicans slipped a tax break for we...</td>\n",
       "      <td>1</td>\n",
       "      <td>1</td>\n",
       "    </tr>\n",
       "    <tr>\n",
       "      <th>4</th>\n",
       "      <td>4</td>\n",
       "      <td>Broke_Poetry</td>\n",
       "      <td>Their jobs and pensions are being threatened o...</td>\n",
       "      <td>1598166788</td>\n",
       "      <td>Washington Postal Workers Defy USPS Orders And...</td>\n",
       "      <td>3</td>\n",
       "      <td>0</td>\n",
       "    </tr>\n",
       "  </tbody>\n",
       "</table>\n",
       "</div>"
      ],
      "text/plain": [
       "   Unnamed: 0        Author  \\\n",
       "0           0   Picklesadog   \n",
       "1           1           NaN   \n",
       "2           2    Stunkstank   \n",
       "3           3     viverator   \n",
       "4           4  Broke_Poetry   \n",
       "\n",
       "                                                Body     Created  \\\n",
       "0  And my argument is that the majority of democr...  1501799501   \n",
       "1  I’m not necessarily disagreeing with you but d...  1590457879   \n",
       "2  That’s not how the constitution works. Are you...  1523294396   \n",
       "3                            Johnny five need input.  1587698971   \n",
       "4  Their jobs and pensions are being threatened o...  1598166788   \n",
       "\n",
       "                                                Post  Score  Subreddit  \n",
       "0  Poll: McCain more popular with Democrats than ...      1          1  \n",
       "1        Paying Illegal Immigrants Puts America Last      1          0  \n",
       "2                          Is Gun Ownership a Right?      1          0  \n",
       "3  “Senate Republicans slipped a tax break for we...      1          1  \n",
       "4  Washington Postal Workers Defy USPS Orders And...      3          0  "
      ]
     },
     "execution_count": 24,
     "metadata": {},
     "output_type": "execute_result"
    }
   ],
   "source": [
    "print(submission.shape)\n",
    "submission.head()"
   ]
  },
  {
   "cell_type": "code",
   "execution_count": 27,
   "metadata": {},
   "outputs": [],
   "source": [
    "submission['Subreddit'].to_csv('sample_submission.csv')"
   ]
  },
  {
   "cell_type": "code",
   "execution_count": null,
   "metadata": {},
   "outputs": [],
   "source": []
  }
 ],
 "metadata": {
  "kernelspec": {
   "display_name": "Python 3",
   "language": "python",
   "name": "python3"
  },
  "language_info": {
   "codemirror_mode": {
    "name": "ipython",
    "version": 3
   },
   "file_extension": ".py",
   "mimetype": "text/x-python",
   "name": "python",
   "nbconvert_exporter": "python",
   "pygments_lexer": "ipython3",
   "version": "3.7.3"
  }
 },
 "nbformat": 4,
 "nbformat_minor": 4
}
