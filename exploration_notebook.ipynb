{
 "cells": [
  {
   "cell_type": "code",
   "execution_count": 1,
   "metadata": {},
   "outputs": [],
   "source": [
    "import pandas as pd\n",
    "import numpy as np"
   ]
  },
  {
   "cell_type": "code",
   "execution_count": 2,
   "metadata": {},
   "outputs": [],
   "source": [
    "CONSERVATIVE_POSTS_FILENAME = \"Data/r_conservative_posts_data_massive_full.csv\"\n",
    "LEFT_POSTS_FILENAME = \"Data/r_politics_posts_data_massive_full.csv\""
   ]
  },
  {
   "cell_type": "code",
   "execution_count": 3,
   "metadata": {},
   "outputs": [],
   "source": [
    "df_leftwing = pd.read_csv(LEFT_POSTS_FILENAME)\n",
    "df_rightwing = pd.read_csv(CONSERVATIVE_POSTS_FILENAME)"
   ]
  },
  {
   "cell_type": "code",
   "execution_count": 4,
   "metadata": {},
   "outputs": [
    {
     "name": "stdout",
     "output_type": "stream",
     "text": [
      "df left wing shape: (1660058, 12)\n",
      "\t df left wing cols: Index(['0', '1', '2', '3', '4', '5', '6', '7', '8', '9', '10', '11'], dtype='object')\n",
      "df right wing shape: (386787, 15)\n",
      "\t df right wing cols: Index(['Title', 'Author', 'created', 'id', 'n_comments', 'score', 'subreddit',\n",
      "       'fullname', 'upvote_ratio', 'locked', 'stickied', 'url', 'Unnamed: 12',\n",
      "       'Unnamed: 13', 'Unnamed: 14'],\n",
      "      dtype='object')\n"
     ]
    }
   ],
   "source": [
    "print(f'df left wing shape: {df_leftwing.shape}')\n",
    "print(f'\\t df left wing cols: {df_leftwing.columns}')\n",
    "print(f'df right wing shape: {df_rightwing.shape}')\n",
    "print(f'\\t df right wing cols: {df_rightwing.columns}')"
   ]
  },
  {
   "cell_type": "code",
   "execution_count": 5,
   "metadata": {},
   "outputs": [
    {
     "name": "stdout",
     "output_type": "stream",
     "text": [
      "116.0\n",
      "0.96\n",
      "118.0\n",
      "0.86\n"
     ]
    }
   ],
   "source": [
    "l_med_comments = df_leftwing[df_leftwing['5'] > 500]['4'].median()\n",
    "l_med_ratio = df_leftwing[df_leftwing['5'] > 500]['8'].median()\n",
    "\n",
    "r_med_comments = df_rightwing[df_rightwing['score'] > 500]['n_comments'].median()\n",
    "r_med_ratio = df_rightwing[df_rightwing['score'] > 500]['upvote_ratio'].median()\n",
    "\n",
    "print(l_med_comments)\n",
    "print(l_med_ratio)\n",
    "print(r_med_comments)\n",
    "print(r_med_ratio)"
   ]
  },
  {
   "cell_type": "code",
   "execution_count": 6,
   "metadata": {
    "scrolled": true
   },
   "outputs": [],
   "source": [
    "left_filtered = df_leftwing[(df_leftwing['4'] > 116) & (df_leftwing['8'] >= 0.99) ]"
   ]
  },
  {
   "cell_type": "code",
   "execution_count": 7,
   "metadata": {
    "scrolled": true
   },
   "outputs": [],
   "source": [
    "right_filtered = df_rightwing[(df_rightwing['n_comments'] > 118) & (df_rightwing['upvote_ratio'] >= 0.88)]"
   ]
  },
  {
   "cell_type": "code",
   "execution_count": 8,
   "metadata": {},
   "outputs": [
    {
     "data": {
      "text/plain": [
       "504275"
      ]
     },
     "execution_count": 8,
     "metadata": {},
     "output_type": "execute_result"
    }
   ],
   "source": [
    "left_filtered['4'].sum() # number of filtered comments"
   ]
  },
  {
   "cell_type": "code",
   "execution_count": 9,
   "metadata": {},
   "outputs": [
    {
     "data": {
      "text/plain": [
       "446034"
      ]
     },
     "execution_count": 9,
     "metadata": {},
     "output_type": "execute_result"
    }
   ],
   "source": [
    "right_filtered['n_comments'].sum()"
   ]
  },
  {
   "cell_type": "code",
   "execution_count": 11,
   "metadata": {},
   "outputs": [],
   "source": [
    "left_filtered.to_csv('filtered_democrat_posts.csv', index=False)\n",
    "right_filtered.to_csv('filtered_republican_posts.csv', index=False)"
   ]
  },
  {
   "cell_type": "code",
   "execution_count": null,
   "metadata": {},
   "outputs": [],
   "source": []
  }
 ],
 "metadata": {
  "kernelspec": {
   "display_name": "Python 3",
   "language": "python",
   "name": "python3"
  },
  "language_info": {
   "codemirror_mode": {
    "name": "ipython",
    "version": 3
   },
   "file_extension": ".py",
   "mimetype": "text/x-python",
   "name": "python",
   "nbconvert_exporter": "python",
   "pygments_lexer": "ipython3",
   "version": "3.7.3"
  }
 },
 "nbformat": 4,
 "nbformat_minor": 4
}
